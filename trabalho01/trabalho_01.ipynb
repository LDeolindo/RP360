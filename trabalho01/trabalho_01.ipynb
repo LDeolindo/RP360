{
 "cells": [
  {
   "cell_type": "markdown",
   "metadata": {},
   "source": [
    "# Trabalho 01"
   ]
  },
  {
   "cell_type": "markdown",
   "metadata": {},
   "source": [
    "Este *notebook* tem como objetivo aplicar todos os conceitos aprendidos no processamento do sinal\n",
    "para o *dataset -* 8 SSVEP-BCI no modo *offline*."
   ]
  },
  {
   "cell_type": "markdown",
   "metadata": {},
   "source": [
    "**Nota:** O arquivo `requirements.txt` contém todas as dependências necessárias.\n",
    "Para instalar (no linux), basta fazer:\n",
    "\n",
    "```\n",
    "$ pip install -r requirements.txt\n",
    "```"
   ]
  },
  {
   "cell_type": "markdown",
   "metadata": {},
   "source": [
    "## Dependências"
   ]
  },
  {
   "cell_type": "code",
   "execution_count": 1,
   "metadata": {},
   "outputs": [],
   "source": [
    "# bloco apenas com organizações de imports\n",
    "from google_drive_downloader import GoogleDriveDownloader as gdd\n",
    "import numpy as np\n",
    "import json\n",
    "import matplotlib\n",
    "import mne\n",
    "import scipy\n",
    "from scipy.signal import stft\n",
    "from sklearn.model_selection import train_test_split\n",
    "from sklearn.svm import SVC\n",
    "from sklearn import metrics\n",
    "\n",
    "%matplotlib inline"
   ]
  },
  {
   "cell_type": "markdown",
   "metadata": {},
   "source": [
    "## Preparação do *dataset* de trabalho"
   ]
  },
  {
   "cell_type": "code",
   "execution_count": 2,
   "metadata": {},
   "outputs": [],
   "source": [
    "# bloco de declaração dos identificadores de download (google drive) e setup\n",
    "dataset_ids = {\n",
    "    1: '1ym3JqI4_ZYNSBLxoF1vNxI5Hsgur_tha',\n",
    "    2: '1tJ5tHbE-2jwr0gA33Gd873lRPao-e4dF',\n",
    "    3: '1tXdpY-mser01POaP6Qwixny6LjsXXoXB',\n",
    "    4: '1T00cliWp5yqqbbWZ7-rf2X4tOUQ-PvIQ',\n",
    "    5: '1CYsBFMul9zB_vCy0XD7XVfKUl8vihDYZ',\n",
    "    6: '1io6jdALBKeopELWXahPzuAi6EfYDgviW',\n",
    "    7: '1YDkheRDPNDR1ujsqqC_SY6cebWHkw9Xt',\n",
    "    8: '1jjoQJFDCi7O9Q-iaReAPpQnxC-HIKpQi',\n",
    "}\n",
    "label_id = '1mD5MXoh6tfQJFXIvdw2MQsEu6vZka6C0'\n",
    "desc = '14kYNBZYdttqmSS_Vz6Bm_ztG9Uw1MC0y'\n",
    "\n",
    "# ALTERE O ID DO DATASET DE SUA ESCOLHA AQUI - NO CASO DESSE TRABALHO: 8\n",
    "DS = 8"
   ]
  },
  {
   "cell_type": "code",
   "execution_count": 3,
   "metadata": {},
   "outputs": [],
   "source": [
    "# download do stataset\n",
    "gdd.download_file_from_google_drive(file_id=dataset_ids[DS],\n",
    "                                    dest_path='files/data.npy',\n",
    "                                    showsize=True)\n",
    "# download do arquivo de marcações\n",
    "gdd.download_file_from_google_drive(file_id=label_id,\n",
    "                                    dest_path='files/labels.npy', showsize=True)\n",
    "\n",
    "# download do arquivo de descrição\n",
    "gdd.download_file_from_google_drive(file_id=desc,\n",
    "                                    dest_path='files/descriptor.json',\n",
    "                                    showsize=True)"
   ]
  },
  {
   "cell_type": "markdown",
   "metadata": {},
   "source": [
    "### Carregamento do *dataset* de trabalho"
   ]
  },
  {
   "cell_type": "code",
   "execution_count": 4,
   "metadata": {},
   "outputs": [
    {
     "name": "stdout",
     "output_type": "stream",
     "text": [
      "Estruturas => dados (125, 257, 1205) labels (125,)\n"
     ]
    }
   ],
   "source": [
    "X = np.load('files/data.npy')\n",
    "y = np.load('files/labels.npy')\n",
    "desc_file = open('files/descriptor.json')\n",
    "descriptor = json.loads(desc_file.read())\n",
    "desc_file.close()\n",
    "print('Estruturas => dados', X.shape, 'labels', y.shape)"
   ]
  },
  {
   "cell_type": "markdown",
   "metadata": {},
   "source": [
    "Os dados estão estruturados em *numpy arrays*.\n",
    "\n",
    "O \"shape\" `(125, 257, 1205)` para os dados EEG de `X`, significa que existem 125 *trials* (tradução aceitável: ensaio, julgamento), 257 *channels* que representam os eletrodos e 1205 dados que representam o potencial mensurado em ponto flutuante. Este é um array com **três dimensões**.\n",
    "\n",
    "O \"shape\" `(125,)` para os dados de *labels* ou marcadores `y`, apresentam qual é o eletrodo respectivo a cada *trial*. Os *labels* estão com valores numéricos, o que facilita o processamento, mas não é intuitivo. "
   ]
  },
  {
   "cell_type": "markdown",
   "metadata": {},
   "source": [
    "Desta forma, foi preparado um arquivo de descrição no qual é possível saber qual é o rótulo do *dataset*, além de outras informações como a taxa de amostragem (sampling rate), idade, tipo do cabelo (curto, médio ou comprido), sexo, tamanho da touca e se é destro ou canhoto. Veja os dados do voluntário escolhido:"
   ]
  },
  {
   "cell_type": "code",
   "execution_count": 5,
   "metadata": {},
   "outputs": [
    {
     "name": "stdout",
     "output_type": "stream",
     "text": [
      "Características do voluntário: {'age': '25', 'capsize': 'Adult Medium', 'gender': 'Male', 'hairtype': 'Regular', 'handedness': 'Right'}\n",
      "\n",
      "Rótulos: {'1': 6.66, '2': 7.5, '3': 8.57, '4': 10.0, '5': 12.0}\n",
      "\n",
      "Taxa de amostragem: 250\n"
     ]
    }
   ],
   "source": [
    "print('Características do voluntário:', descriptor[str(DS)])\n",
    "print('\\nRótulos:', descriptor['frequencies'])\n",
    "print('\\nTaxa de amostragem:', descriptor['sampling_rate'])"
   ]
  },
  {
   "cell_type": "markdown",
   "metadata": {},
   "source": [
    "Apesar do autor do *dataset* apresentar os `Rótulos {'1': 6.66, '2': 7.5, '3': 8.57, '4': 10.0, '5': 12.0}` verificou-se que os mesmos ocorrem em ordem inversa.\n",
    "\n",
    "`Rótulos Corretos: {'5': 6.66, '4': 7.5, '3': 8.57, '2': 10.0, '1': 12.0}`"
   ]
  },
  {
   "cell_type": "markdown",
   "metadata": {},
   "source": [
    "E ainda apresentou a taxa de amostragem da captura dos dados igual a `250 Hz`, o mesmo não foi verificado por meio dos dados. Os dados dos voluntários estão desbalanceados em quantidade, o que não nos permite criar um `numpy.array`, apenas vetores não esparsos. Desta forma, teremos que recalcular a taxa de amostragem (*sample rate*):"
   ]
  },
  {
   "cell_type": "code",
   "execution_count": 6,
   "metadata": {},
   "outputs": [
    {
     "name": "stdout",
     "output_type": "stream",
     "text": [
      "Nova taxa de amostragem: 241.0 Hz\n"
     ]
    }
   ],
   "source": [
    "# quantidade_de_dados / tempo_do_trial\n",
    "descriptor['sampling_rate'] = X.shape[-1] / 5\n",
    "print('Nova taxa de amostragem: {} Hz'.format(descriptor['sampling_rate']))"
   ]
  },
  {
   "cell_type": "markdown",
   "metadata": {},
   "source": [
    "## Utilizando MNE para representar e trabalhar com os dados"
   ]
  },
  {
   "cell_type": "markdown",
   "metadata": {},
   "source": [
    "A biblioteca MNE é usada para representar os dados de EEG, facilitando o armazenamento de todas as informações em um único objeto.\n",
    "\n",
    "Além disso, somente a biblioteca MNE permite executar diversas operações de pré-processamento do *dataset*, além de outras operações utilizadas durante o processamento SSVEP."
   ]
  },
  {
   "cell_type": "markdown",
   "metadata": {},
   "source": [
    "### MNE *info descriptor*"
   ]
  },
  {
   "cell_type": "markdown",
   "metadata": {},
   "source": [
    "O primeiro passo é criar um objeto `info`, que servirá como descrição do objeto MNE. Os valores mais importantes de descrição do objeto são: nome dos eletrodos: `montage.ch_names`, taxa de amostragem: `descriptor['sampling_rate']` e tipo do sinal: `'eeg'`."
   ]
  },
  {
   "cell_type": "code",
   "execution_count": 7,
   "metadata": {},
   "outputs": [
    {
     "data": {
      "text/plain": [
       "<Info | 8 non-empty values\n",
       " bads: []\n",
       " ch_names: E1, E2, E3, E4, E5, E6, E7, E8, E9, E10, E11, E12, E13, E14, ...\n",
       " chs: 256 EEG\n",
       " custom_ref_applied: False\n",
       " dig: 259 items (3 Cardinal, 256 EEG)\n",
       " highpass: 0.0 Hz\n",
       " lowpass: 120.5 Hz\n",
       " meas_date: unspecified\n",
       " nchan: 256\n",
       " projs: []\n",
       " sfreq: 241.0 Hz\n",
       ">"
      ]
     },
     "execution_count": 7,
     "metadata": {},
     "output_type": "execute_result"
    }
   ],
   "source": [
    "# aumentando a escala das figuras no matplotlib (padrão 6. x 4.)\n",
    "matplotlib.rcParams['figure.figsize'] = [12, 8]\n",
    "\n",
    "# objeto com o nome dos canais pelo modelo da touca utilizada\n",
    "montage = mne.channels.make_standard_montage('EGI_256')\n",
    "\n",
    "# criando o objeto `info` (o restante dos valores já temos)\n",
    "info = mne.create_info(montage.ch_names,\n",
    "                       sfreq=descriptor['sampling_rate'],\n",
    "                       ch_types='eeg')\n",
    "\n",
    "info.set_montage(montage)\n",
    "info"
   ]
  },
  {
   "cell_type": "markdown",
   "metadata": {},
   "source": [
    "Podemos verificar que o nome dos canais não nos ajudou muito. Isto ocorre porque o modelo utilizado não é o \"padrão 10-20\" ou \"padrão 10-05\". Desta forma, nome de canais como `O1`, `O2`, `Pz` não estarão explícitos para consulta e outras operações.\n",
    "\n",
    "Vamos então utilizar informações do artigo, no qual são mostradas alguns mapeamentos destes nomes genéricos (`E1`, `E2`, etc) para os nomes no padrão internacional 10-20:\n",
    "\n",
    "| 256 HCGSN | 10-20 System | 256 HCGSN | 10-20 System | 256 HCGSN | 10-20 System | 256 HCGSN | 10-20 System |\n",
    "|:---------:|:------------:|:---------:|:------------:|:---------:|:------------:|:---------:|:------------:|\n",
    "|     47    |      F7      |     21    |      Fz      |    202    |      T8      |     31    |      NAS     |\n",
    "|     37    |      Fp1     |    183    |      C4      |    116    |      O1      |     69    |      T7      |\n",
    "|     36    |      F3      |    170    |      P8      |     94    |      LM      |    190    |      RM      |\n",
    "|     2     |      F8      |    150    |      O2      |     18    |      Fp2     |    126    |      Oz      |\n",
    "|    101    |      Pz      |    224    |      F4      |     96    |      P7      |\n",
    "\n",
    "Além desse mapeamento aproximado, podemos comparar outros, por meio de mapeamentos dos padrões armazenados na própria biblioteca:"
   ]
  },
  {
   "cell_type": "code",
   "execution_count": 8,
   "metadata": {},
   "outputs": [
    {
     "name": "stdout",
     "output_type": "stream",
     "text": [
      "EGI 256\n",
      "Creating RawArray with float64 data, n_channels=256, n_times=1\n",
      "    Range : 0 ... 0 =      0.000 ...     0.000 secs\n",
      "Ready.\n"
     ]
    },
    {
     "data": {
      "image/png": "[encoded data removed]",
      "text/plain": [
       "<Figure size 864x864 with 1 Axes>"
      ]
     },
     "metadata": {
      "needs_background": "light"
     },
     "output_type": "display_data"
    },
    {
     "name": "stdout",
     "output_type": "stream",
     "text": [
      "10-20 SYSTEM\n",
      "4 duplicate electrode labels found:\n",
      "T7/T3, T8/T4, P7/T5, P8/T6\n",
      "Plotting 90 unique labels.\n",
      "Creating RawArray with float64 data, n_channels=90, n_times=1\n",
      "    Range : 0 ... 0 =      0.000 ...     0.000 secs\n",
      "Ready.\n"
     ]
    },
    {
     "data": {
      "image/png": "[encoded data removed]",
      "text/plain": [
       "<Figure size 720x720 with 1 Axes>"
      ]
     },
     "metadata": {
      "needs_background": "light"
     },
     "output_type": "display_data"
    },
    {
     "name": "stdout",
     "output_type": "stream",
     "text": [
      "\n"
     ]
    }
   ],
   "source": [
    "# plotando o padrão EGI 256\n",
    "print('EGI 256')\n",
    "montage.plot()\n",
    "\n",
    "# plotando o padrão 10-20\n",
    "print('10-20 SYSTEM')\n",
    "\n",
    "matplotlib.rcParams['figure.figsize'] = [10, 7]\n",
    "mne.channels.make_standard_montage('standard_1020').plot()\n",
    "print()"
   ]
  },
  {
   "cell_type": "markdown",
   "metadata": {},
   "source": [
    "### Criando objeto MNE Epoch\n",
    "\n",
    "A princípio, precisamos preparar o parâmetro `events` do objeto `EpochArray`, que armazena os marcadores do experimento (aqueles marcadores que estão armazenados no nosso objeto `descriptor`).\n",
    "\n",
    "Por fim, adicionamos o parâmetro `info` que acabamos de criar."
   ]
  },
  {
   "cell_type": "code",
   "execution_count": 9,
   "metadata": {},
   "outputs": [
    {
     "name": "stdout",
     "output_type": "stream",
     "text": [
      "125 matching events found\n",
      "No baseline correction applied\n",
      "Not setting metadata\n",
      "0 projection items activated\n",
      "0 bad epochs dropped\n"
     ]
    },
    {
     "data": {
      "text/plain": [
       "<EpochsArray  |   125 events (all good), 0 - 4.99585 sec, baseline off, ~294.8 MB, data loaded,\n",
       " '1': 25\n",
       " '2': 25\n",
       " '3': 30\n",
       " '4': 25\n",
       " '5': 20>"
      ]
     },
     "execution_count": 9,
     "metadata": {},
     "output_type": "execute_result"
    }
   ],
   "source": [
    "# o 257º eletrodo é o VREF (referência). Podemos tirá-lo.\n",
    "X = X[:,:256,:]\n",
    "\n",
    "# objeto event é uma matriz tridimensional conforme explicado em aula\n",
    "events = np.array([[i, 0, e] for i, e in enumerate(y)])\n",
    "\n",
    "# instanciando objeto EpochArray\n",
    "epoch = mne.EpochsArray(X, info, events=events)\n",
    "epoch"
   ]
  },
  {
   "cell_type": "markdown",
   "metadata": {},
   "source": [
    "### Iniciando trabalhos com MNE Epoch"
   ]
  },
  {
   "cell_type": "markdown",
   "metadata": {},
   "source": [
    "Com o objeto MNE criado, podemos realizar as operações.\n",
    "\n",
    "A primeira coisa que faremos é filtrar alguns eletrodos de maior interesse (p/ experimentos SSVEP), foram selecionados 50 eletrodos:"
   ]
  },
  {
   "cell_type": "code",
   "execution_count": 10,
   "metadata": {},
   "outputs": [
    {
     "data": {
      "text/plain": [
       "<EpochsArray  |   125 events (all good), 0 - 4.99585 sec, baseline off, ~57.7 MB, data loaded,\n",
       " '1': 25\n",
       " '2': 25\n",
       " '3': 30\n",
       " '4': 25\n",
       " '5': 20>"
      ]
     },
     "execution_count": 10,
     "metadata": {},
     "output_type": "execute_result"
    }
   ],
   "source": [
    "epoch_welch = epoch.copy().pick_channels(['E95','E96','E97','E98','E99','E100',\n",
    "                                        'E101','E105','E106','E107','E108','E109','E110',\n",
    "                                        'E113','E114','E115','E116','E117','E118','E119',\n",
    "                                        'E122','E123','E124','E125','E126','E127','E128','E129',\n",
    "                                        'E135','E136','E137','E138','E139','E140',\n",
    "                                        'E141','E147','E148','E149','E150',\n",
    "                                        'E151','E152','E157','E158','E159','E160',\n",
    "                                        'E161','E168','E169','E170',\n",
    "                                        'E178'])\n",
    "epoch_welch"
   ]
  },
  {
   "cell_type": "markdown",
   "metadata": {},
   "source": [
    "Para demonstrar que estamos apenas com os eletrodos escolhidos, mostramos o shape de ambos os objetos criados."
   ]
  },
  {
   "cell_type": "code",
   "execution_count": 11,
   "metadata": {},
   "outputs": [
    {
     "name": "stdout",
     "output_type": "stream",
     "text": [
      "(125, 256, 1205)\n",
      "(125, 50, 1205)\n"
     ]
    }
   ],
   "source": [
    "print(epoch.get_data().shape)\n",
    "print(epoch_welch.get_data().shape)"
   ]
  },
  {
   "cell_type": "markdown",
   "metadata": {},
   "source": [
    "## Etapa de Pré-Processamento"
   ]
  },
  {
   "cell_type": "markdown",
   "metadata": {},
   "source": [
    "### Filtros espaciais"
   ]
  },
  {
   "cell_type": "markdown",
   "metadata": {},
   "source": [
    "Filtros espaciais são utilizados para escolher canais de dados que melhor respondem a uma determinada tarefa. No caso do paradigma SSVEP, espera-se encontrar o conjunto de eletrodos que possuem respostas mais significativas em relação à frequências evocadas. Um algoritmo muito utilizado para este fim é o *CAR* (`Common Average Reference`)."
   ]
  },
  {
   "cell_type": "markdown",
   "metadata": {},
   "source": [
    "Nesse caso foi utilizado a média. No MNE a implementação do *CAR* se dá pela aplicação do método `set_eeg.reference`:"
   ]
  },
  {
   "cell_type": "code",
   "execution_count": 12,
   "metadata": {},
   "outputs": [
    {
     "name": "stdout",
     "output_type": "stream",
     "text": [
      "EEG channel type selected for re-referencing\n",
      "Applying a custom EEG reference.\n"
     ]
    },
    {
     "data": {
      "text/plain": [
       "(<EpochsArray  |   125 events (all good), 0 - 4.99585 sec, baseline off, ~57.7 MB, data loaded,\n",
       "  '1': 25\n",
       "  '2': 25\n",
       "  '3': 30\n",
       "  '4': 25\n",
       "  '5': 20>,\n",
       " array([[-663.018293  , -670.70299667, -679.51876144, ..., -463.3864093 ,\n",
       "         -463.18609985, -460.27948669],\n",
       "        [-158.77751236, -161.33793533, -158.66452688, ...,  -28.18680199,\n",
       "          -31.50181503,  -29.13924347],\n",
       "        [ 147.07370544,  152.69054016,  153.20662476, ...,  237.92565308,\n",
       "          233.6788002 ,  233.53854294],\n",
       "        ...,\n",
       "        [-639.21148224, -643.17235771, -638.81780701, ..., -642.37642166,\n",
       "         -637.91658234, -634.00031494],\n",
       "        [-629.69196419, -635.30676346, -630.99720894, ..., -665.64509842,\n",
       "         -660.28201004, -658.69720016],\n",
       "        [-649.95153519, -646.26245682, -646.52328552, ..., -645.04517838,\n",
       "         -652.69100525, -650.15173187]]))"
      ]
     },
     "execution_count": 12,
     "metadata": {},
     "output_type": "execute_result"
    }
   ],
   "source": [
    "epo_ref = mne.set_eeg_reference(epoch_welch, ref_channels=['E95','E96','E97','E98','E99','E100',\n",
    "                                                        'E101','E105','E106','E107','E108','E109','E110',\n",
    "                                                        'E113','E114','E115','E116','E117','E118','E119',\n",
    "                                                        'E122','E123','E124','E125','E126','E127','E128','E129',\n",
    "                                                        'E135','E136','E137','E138','E139','E140',\n",
    "                                                        'E141','E147','E148','E149','E150',\n",
    "                                                        'E151','E152','E157','E158','E159','E160',\n",
    "                                                        'E161','E168','E169','E170',\n",
    "                                                        'E178'])\n",
    "epo_ref"
   ]
  },
  {
   "cell_type": "markdown",
   "metadata": {},
   "source": [
    "### Filtros temporais"
   ]
  },
  {
   "cell_type": "markdown",
   "metadata": {},
   "source": [
    "O filtro é dito temporal pois influencia diretamente na periodicidade das diversas frequências presentes em um sinal de EEG por exemplo.\n",
    "\n",
    "Foi utilizado filtro `band pass`, mas para gerar ele foi aplicado o filtro `low pass` e o filtro `high pass` em sequência. E foi constatado ainda que quando se aplica esse processo 4 vezes o resultado melhorou, mas quando se aplicou 3 ou 5, o resulta teve uma pequena queda."
   ]
  },
  {
   "cell_type": "code",
   "execution_count": 13,
   "metadata": {},
   "outputs": [
    {
     "name": "stdout",
     "output_type": "stream",
     "text": [
      "Setting up high-pass filter at 6 Hz\n",
      "\n",
      "FIR filter parameters\n",
      "---------------------\n",
      "Designing a one-pass, zero-phase, non-causal highpass filter:\n",
      "- Windowed time-domain design (firwin) method\n",
      "- Hamming window with 0.0194 passband ripple and 53 dB stopband attenuation\n",
      "- Lower passband edge: 6.00\n",
      "- Lower transition bandwidth: 2.00 Hz (-6 dB cutoff frequency: 5.00 Hz)\n",
      "- Filter length: 399 samples (1.656 sec)\n",
      "\n",
      "Setting up low-pass filter at 13 Hz\n",
      "\n",
      "FIR filter parameters\n",
      "---------------------\n",
      "Designing a one-pass, zero-phase, non-causal lowpass filter:\n",
      "- Windowed time-domain design (firwin) method\n",
      "- Hamming window with 0.0194 passband ripple and 53 dB stopband attenuation\n",
      "- Upper passband edge: 13.00 Hz\n",
      "- Upper transition bandwidth: 3.25 Hz (-6 dB cutoff frequency: 14.62 Hz)\n",
      "- Filter length: 245 samples (1.017 sec)\n",
      "\n",
      "Setting up high-pass filter at 6 Hz\n",
      "\n",
      "FIR filter parameters\n",
      "---------------------\n",
      "Designing a one-pass, zero-phase, non-causal highpass filter:\n",
      "- Windowed time-domain design (firwin) method\n",
      "- Hamming window with 0.0194 passband ripple and 53 dB stopband attenuation\n",
      "- Lower passband edge: 6.00\n",
      "- Lower transition bandwidth: 2.00 Hz (-6 dB cutoff frequency: 5.00 Hz)\n",
      "- Filter length: 399 samples (1.656 sec)\n",
      "\n",
      "Setting up low-pass filter at 13 Hz\n",
      "\n",
      "FIR filter parameters\n",
      "---------------------\n",
      "Designing a one-pass, zero-phase, non-causal lowpass filter:\n",
      "- Windowed time-domain design (firwin) method\n",
      "- Hamming window with 0.0194 passband ripple and 53 dB stopband attenuation\n",
      "- Upper passband edge: 13.00 Hz\n",
      "- Upper transition bandwidth: 3.25 Hz (-6 dB cutoff frequency: 14.62 Hz)\n",
      "- Filter length: 245 samples (1.017 sec)\n",
      "\n",
      "Setting up high-pass filter at 6 Hz\n",
      "\n",
      "FIR filter parameters\n",
      "---------------------\n",
      "Designing a one-pass, zero-phase, non-causal highpass filter:\n",
      "- Windowed time-domain design (firwin) method\n",
      "- Hamming window with 0.0194 passband ripple and 53 dB stopband attenuation\n",
      "- Lower passband edge: 6.00\n",
      "- Lower transition bandwidth: 2.00 Hz (-6 dB cutoff frequency: 5.00 Hz)\n",
      "- Filter length: 399 samples (1.656 sec)\n",
      "\n",
      "Setting up low-pass filter at 13 Hz\n",
      "\n",
      "FIR filter parameters\n",
      "---------------------\n",
      "Designing a one-pass, zero-phase, non-causal lowpass filter:\n",
      "- Windowed time-domain design (firwin) method\n",
      "- Hamming window with 0.0194 passband ripple and 53 dB stopband attenuation\n",
      "- Upper passband edge: 13.00 Hz\n",
      "- Upper transition bandwidth: 3.25 Hz (-6 dB cutoff frequency: 14.62 Hz)\n",
      "- Filter length: 245 samples (1.017 sec)\n",
      "\n",
      "Setting up high-pass filter at 6 Hz\n",
      "\n",
      "FIR filter parameters\n",
      "---------------------\n",
      "Designing a one-pass, zero-phase, non-causal highpass filter:\n",
      "- Windowed time-domain design (firwin) method\n",
      "- Hamming window with 0.0194 passband ripple and 53 dB stopband attenuation\n",
      "- Lower passband edge: 6.00\n",
      "- Lower transition bandwidth: 2.00 Hz (-6 dB cutoff frequency: 5.00 Hz)\n",
      "- Filter length: 399 samples (1.656 sec)\n",
      "\n",
      "Setting up low-pass filter at 13 Hz\n",
      "\n",
      "FIR filter parameters\n",
      "---------------------\n",
      "Designing a one-pass, zero-phase, non-causal lowpass filter:\n",
      "- Windowed time-domain design (firwin) method\n",
      "- Hamming window with 0.0194 passband ripple and 53 dB stopband attenuation\n",
      "- Upper passband edge: 13.00 Hz\n",
      "- Upper transition bandwidth: 3.25 Hz (-6 dB cutoff frequency: 14.62 Hz)\n",
      "- Filter length: 245 samples (1.017 sec)\n",
      "\n"
     ]
    }
   ],
   "source": [
    "# Limitando as frequências\n",
    "fmin = 6.0\n",
    "fmax = 13.0\n",
    "\n",
    "epo_bp = epo_ref[0].filter(l_freq=fmin, h_freq=None)\n",
    "epo_bp = epo_bp.filter(l_freq=None, h_freq=fmax)\n",
    "\n",
    "epo_bp = epo_bp.filter(l_freq=fmin, h_freq=None)\n",
    "epo_bp = epo_bp.filter(l_freq=None, h_freq=fmax)\n",
    "\n",
    "epo_bp = epo_bp.filter(l_freq=fmin, h_freq=None)\n",
    "epo_bp = epo_bp.filter(l_freq=None, h_freq=fmax)\n",
    "\n",
    "epo_bp = epo_bp.filter(l_freq=fmin, h_freq=None)\n",
    "epo_bp = epo_bp.filter(l_freq=None, h_freq=fmax)"
   ]
  },
  {
   "cell_type": "markdown",
   "metadata": {},
   "source": [
    "### Transformação de domínio"
   ]
  },
  {
   "cell_type": "markdown",
   "metadata": {},
   "source": [
    "Foi utilizado o `método Welch` para realizar a estimação PSD."
   ]
  },
  {
   "cell_type": "code",
   "execution_count": 14,
   "metadata": {},
   "outputs": [
    {
     "name": "stdout",
     "output_type": "stream",
     "text": [
      "Effective window size : 1.062 (s)\n",
      "(125, 50, 129)\n"
     ]
    }
   ],
   "source": [
    "epoch_welch, freqs = mne.time_frequency.psd_welch(epo_bp, n_per_seg=32, n_overlap=16)\n",
    "# epoch_welch1, freqs = mne.time_frequency.psd_welch(epo_bp, fmax=9.8, n_per_seg=32, n_overlap=16)\n",
    "# epoch_welch2, freqs = mne.time_frequency.psd_welch(epo_bp, fmin=11.2, n_per_seg=32, n_overlap=16)\n",
    "print(epoch_welch.shape)"
   ]
  },
  {
   "cell_type": "markdown",
   "metadata": {},
   "source": [
    "## Criação do vetor de características"
   ]
  },
  {
   "cell_type": "markdown",
   "metadata": {},
   "source": [
    "### Aplicando Welch novamente"
   ]
  },
  {
   "cell_type": "markdown",
   "metadata": {},
   "source": [
    "Sim, o `método Welch` foi aplicado 2 vezes. Isso fez com que o resultado melhorasse e muito."
   ]
  },
  {
   "cell_type": "code",
   "execution_count": 15,
   "metadata": {},
   "outputs": [],
   "source": [
    "freqs, epoch_welch = scipy.signal.welch(epoch_welch, fs=241, nperseg=32, noverlap=16)"
   ]
  },
  {
   "cell_type": "code",
   "execution_count": 16,
   "metadata": {},
   "outputs": [
    {
     "name": "stdout",
     "output_type": "stream",
     "text": [
      "(125, 50, 17)\n"
     ]
    }
   ],
   "source": [
    "W = np.abs(epoch_welch) ** 2\n",
    "\n",
    "print(W.shape)"
   ]
  },
  {
   "cell_type": "markdown",
   "metadata": {},
   "source": [
    "### Extração de características"
   ]
  },
  {
   "cell_type": "markdown",
   "metadata": {},
   "source": [
    "Não é uma boa estratégia utilizar os dados *crus* de PSD para a classificação. Foi adotado alguns algoritmos simples para reduzir uma dimensão dos dados e potencializar nossas características. As características utilizadas foram retiradas deste artigo: [A wearable wireless brain-computer interface using steady-state visual evoked potentials](https://www.researchgate.net/publication/334854837_A_wearable_wireless_brain-computer_interface_using_steady-state_visual_evoked_potentials). Das características citadas no artigo, foram testadas 15, das quais foram utilizadas 13:"
   ]
  },
  {
   "cell_type": "code",
   "execution_count": 17,
   "metadata": {},
   "outputs": [
    {
     "name": "stdout",
     "output_type": "stream",
     "text": [
      "FMN: (125, 50)\n",
      "MAX: (125, 50)\n",
      "MIN: (125, 50)\n",
      "SD: (125, 50)\n",
      "RMS: (125, 50)\n",
      "RSS: (125, 50)\n",
      "KUR: (125, 50)\n",
      "SKW: (125, 50)\n",
      "MAV: (125, 50)\n",
      "QRT1: (125, 50)\n",
      "QRT2: (125, 50)\n",
      "QRT3: (125, 50)\n",
      "AUC: (125, 50)\n",
      "VAR: (125, 50)\n",
      "MOM: (125, 50)\n"
     ]
    }
   ],
   "source": [
    "# Mean - 1 --\n",
    "fmn = np.mean(W, axis=-1)\n",
    "print('FMN:', fmn.shape)\n",
    "\n",
    "# Max - 2 --\n",
    "mx = np.amax(W, axis=-1)\n",
    "print('MAX:', mx.shape)\n",
    "\n",
    "# Min - 3 --\n",
    "mn = np.amin(W, axis=-1)\n",
    "print('MIN:', mn.shape)\n",
    "\n",
    "# Standard deviation (SD) - 4 --\n",
    "sd = scipy.stats.tstd(W, axis=-1)\n",
    "print('SD:', sd.shape)\n",
    "\n",
    "# Root mean square - 5*\n",
    "rms = np.sqrt(np.mean(W, axis=-1))\n",
    "print('RMS:', rms.shape)\n",
    "\n",
    "# Root of sum of squares - 6*\n",
    "rss = np.sqrt(np.sum(W, axis=-1))\n",
    "print('RSS:', rss.shape)\n",
    "\n",
    "# Kurtosis 7 *\n",
    "kur = scipy.stats.kurtosis(W, axis=-1)\n",
    "print('KUR:', kur.shape)\n",
    "\n",
    "# Skewness 8\n",
    "skw = scipy.stats.skew(W, axis=-1)\n",
    "print('SKW:', skw.shape)\n",
    "\n",
    "# Absolute value mean - 9 --\n",
    "mav = np.mean(np.absolute(W), axis=-1)\n",
    "print('MAV:', mav.shape)\n",
    "\n",
    "# Quartiles 1 - 10*\n",
    "qrt1 = np.quantile(W, .25, axis=-1)\n",
    "print('QRT1:', qrt1.shape)\n",
    "\n",
    "# Quartiles 2 - 11*\n",
    "qrt2 = np.quantile(W, .50, axis=-1)\n",
    "print('QRT2:', qrt2.shape)\n",
    "\n",
    "# Quartiles 3 - 12\n",
    "qrt3 = np.quantile(W, .75, axis=-1)\n",
    "print('QRT3:', qrt3.shape)\n",
    "\n",
    "# AUC - 13\n",
    "auc = np.absolute(np.trapz(W, axis=-1))\n",
    "print('AUC:', auc.shape)\n",
    "\n",
    "# VAR - 14\n",
    "var = scipy.stats.variation(W, axis=-1)\n",
    "print('VAR:', var.shape)\n",
    "\n",
    "# moment - 15\n",
    "mom = scipy.stats.moment(W, axis=-1)\n",
    "print('MOM:', mom.shape)"
   ]
  },
  {
   "cell_type": "code",
   "execution_count": 18,
   "metadata": {},
   "outputs": [
    {
     "name": "stdout",
     "output_type": "stream",
     "text": [
      "Shape dos dados: (125, 650)\n"
     ]
    }
   ],
   "source": [
    "# Junção das  características criadas\n",
    "features = list()\n",
    "for feature in (fmn, sd, rms, rss, kur, mav, qrt1, qrt2, qrt3, skw, auc, var, mom,):\n",
    "    features.append(feature)\n",
    "\n",
    "# vetor de características final\n",
    "X = np.concatenate(features, axis=-1)\n",
    "print('Shape dos dados:', X.shape)"
   ]
  },
  {
   "cell_type": "markdown",
   "metadata": {},
   "source": [
    "#### Adaptação do vetor de labels"
   ]
  },
  {
   "cell_type": "markdown",
   "metadata": {},
   "source": [
    "Temos que adaptar o vetor de *labels* para ficar do mesmo tamanho (mesma quantidade de linhas) que o vetor de dados X."
   ]
  },
  {
   "cell_type": "code",
   "execution_count": 19,
   "metadata": {},
   "outputs": [
    {
     "name": "stdout",
     "output_type": "stream",
     "text": [
      "Shape original dos labels (125,)\n",
      "Shape final dos labels (125,)\n"
     ]
    }
   ],
   "source": [
    "y = np.load('files/labels.npy')\n",
    "print('Shape original dos labels', y.shape)\n",
    "\n",
    "size = int(X.shape[0] / y.shape[0])\n",
    "y = np.concatenate([y for i in range(size)])\n",
    "print('Shape final dos labels', y.shape)"
   ]
  },
  {
   "cell_type": "code",
   "execution_count": 20,
   "metadata": {},
   "outputs": [],
   "source": [
    "# import sklearn\n",
    "# print(X.shape)\n",
    "# scaler = sklearn.preprocessing.StandardScaler(with_mean=False, with_std=False)\n",
    "# X = scaler.fit_transform(X)"
   ]
  },
  {
   "cell_type": "markdown",
   "metadata": {},
   "source": [
    "## Classificação"
   ]
  },
  {
   "cell_type": "markdown",
   "metadata": {},
   "source": [
    "A última etapa de uma aplicação de processamento de sinais é a classificação dos dados. Vamos utilizar o vetor de características e o vetor com os rótulos."
   ]
  },
  {
   "cell_type": "markdown",
   "metadata": {},
   "source": [
    "### Métodos de classificação"
   ]
  },
  {
   "cell_type": "markdown",
   "metadata": {},
   "source": [
    "Para realizar a classificação foram utilizados os classificadores da biblioteca *scikit-learn*. O classificador que obteve o melhor resultado foi o: `SVM (Support Vector Machine)`."
   ]
  },
  {
   "cell_type": "markdown",
   "metadata": {},
   "source": [
    "#### SVM - Support Vector Machine"
   ]
  },
  {
   "cell_type": "code",
   "execution_count": 22,
   "metadata": {},
   "outputs": [
    {
     "name": "stdout",
     "output_type": "stream",
     "text": [
      "26\n",
      "Acurácia: 94.74%\n",
      "Kernel:linear | C:1000 | Accuracy: 94.74%\n",
      "203\n",
      "Acurácia: 94.74%\n",
      "Kernel:linear | C:100 | Accuracy: 94.74%\n",
      "239\n",
      "Acurácia: 94.74%\n",
      "Kernel:linear | C:100 | Accuracy: 94.74%\n",
      "291\n",
      "Acurácia: 94.74%\n",
      "Kernel:linear | C:100 | Accuracy: 94.74%\n",
      "505\n",
      "Acurácia: 94.74%\n",
      "Kernel:linear | C:100 | Accuracy: 94.74%\n",
      "845\n",
      "Acurácia: 94.74%\n",
      "Kernel:linear | C:1000 | Accuracy: 94.74%\n",
      "949\n",
      "Acurácia: 94.74%\n",
      "Kernel:linear | C:100 | Accuracy: 94.74%\n",
      "1195\n",
      "Acurácia: 94.74%\n",
      "Kernel:linear | C:100 | Accuracy: 94.74%\n",
      "1364\n",
      "Acurácia: 97.37%\n",
      "Kernel:linear | C:1000 | Accuracy: 97.37%\n",
      "1364\n",
      "Acurácia: 94.74%\n",
      "Kernel:linear | C:10000 | Accuracy: 94.74%\n",
      "1648\n",
      "Acurácia: 94.74%\n",
      "Kernel:linear | C:10 | Accuracy: 94.74%\n",
      "1834\n",
      "Acurácia: 97.37%\n",
      "Kernel:linear | C:1000 | Accuracy: 97.37%\n",
      "1940\n",
      "Acurácia: 94.74%\n",
      "Kernel:linear | C:10000 | Accuracy: 94.74%\n",
      "2269\n",
      "Acurácia: 94.74%\n",
      "Kernel:linear | C:1000 | Accuracy: 94.74%\n",
      "2769\n",
      "Acurácia: 94.74%\n",
      "Kernel:linear | C:100 | Accuracy: 94.74%\n",
      "2822\n",
      "Acurácia: 94.74%\n",
      "Kernel:linear | C:100 | Accuracy: 94.74%\n",
      "2921\n",
      "Acurácia: 94.74%\n",
      "Kernel:linear | C:100 | Accuracy: 94.74%\n",
      "2953\n",
      "Acurácia: 97.37%\n",
      "Kernel:linear | C:10000 | Accuracy: 97.37%\n",
      "3157\n",
      "Acurácia: 94.74%\n",
      "Kernel:linear | C:10000 | Accuracy: 94.74%\n",
      "3347\n",
      "Acurácia: 94.74%\n",
      "Kernel:linear | C:10000 | Accuracy: 94.74%\n",
      "3888\n",
      "Acurácia: 97.37%\n",
      "Kernel:linear | C:1000 | Accuracy: 97.37%\n",
      "4074\n",
      "Acurácia: 94.74%\n",
      "Kernel:linear | C:100 | Accuracy: 94.74%\n",
      "4112\n",
      "Acurácia: 94.74%\n",
      "Kernel:linear | C:10000 | Accuracy: 94.74%\n",
      "4370\n",
      "Acurácia: 94.74%\n",
      "Kernel:linear | C:100 | Accuracy: 94.74%\n",
      "4663\n",
      "Acurácia: 94.74%\n",
      "Kernel:linear | C:10 | Accuracy: 94.74%\n",
      "4672\n",
      "Acurácia: 94.74%\n",
      "Kernel:linear | C:1000 | Accuracy: 94.74%\n",
      "4785\n",
      "Acurácia: 94.74%\n",
      "Kernel:linear | C:10000 | Accuracy: 94.74%\n",
      "5171\n",
      "Acurácia: 94.74%\n",
      "Kernel:linear | C:10 | Accuracy: 94.74%\n",
      "5256\n",
      "Acurácia: 94.74%\n",
      "Kernel:linear | C:10 | Accuracy: 94.74%\n",
      "5983\n",
      "Acurácia: 94.74%\n",
      "Kernel:linear | C:100 | Accuracy: 94.74%\n",
      "7078\n",
      "Acurácia: 94.74%\n",
      "Kernel:linear | C:10000 | Accuracy: 94.74%\n",
      "7118\n",
      "Acurácia: 97.37%\n",
      "Kernel:linear | C:1000 | Accuracy: 97.37%\n",
      "7423\n",
      "Acurácia: 94.74%\n",
      "Kernel:linear | C:100 | Accuracy: 94.74%\n",
      "7574\n",
      "Acurácia: 94.74%\n",
      "Kernel:linear | C:1000 | Accuracy: 94.74%\n",
      "7931\n",
      "Acurácia: 94.74%\n",
      "Kernel:linear | C:100 | Accuracy: 94.74%\n",
      "8089\n",
      "Acurácia: 94.74%\n",
      "Kernel:linear | C:100 | Accuracy: 94.74%\n",
      "8503\n",
      "Acurácia: 94.74%\n",
      "Kernel:linear | C:100 | Accuracy: 94.74%\n",
      "8561\n",
      "Acurácia: 97.37%\n",
      "Kernel:linear | C:1000 | Accuracy: 97.37%\n",
      "8876\n",
      "Acurácia: 94.74%\n",
      "Kernel:linear | C:100 | Accuracy: 94.74%\n",
      "8910\n",
      "Acurácia: 94.74%\n",
      "Kernel:linear | C:100 | Accuracy: 94.74%\n",
      "9502\n",
      "Acurácia: 94.74%\n",
      "Kernel:linear | C:100 | Accuracy: 94.74%\n",
      "10073\n",
      "Acurácia: 94.74%\n",
      "Kernel:linear | C:1000 | Accuracy: 94.74%\n",
      "11168\n",
      "Acurácia: 94.74%\n",
      "Kernel:linear | C:100 | Accuracy: 94.74%\n",
      "11273\n",
      "Acurácia: 100.00%\n",
      "Kernel:linear | C:1000 | Accuracy: 100.00%\n",
      "11817\n",
      "Acurácia: 94.74%\n",
      "Kernel:linear | C:1000 | Accuracy: 94.74%\n",
      "11831\n",
      "Acurácia: 94.74%\n",
      "Kernel:linear | C:100 | Accuracy: 94.74%\n",
      "12246\n",
      "Acurácia: 94.74%\n",
      "Kernel:linear | C:10000 | Accuracy: 94.74%\n",
      "12758\n",
      "Acurácia: 94.74%\n",
      "Kernel:linear | C:10000 | Accuracy: 94.74%\n",
      "12812\n",
      "Acurácia: 94.74%\n",
      "Kernel:linear | C:10000 | Accuracy: 94.74%\n",
      "13059\n",
      "Acurácia: 94.74%\n",
      "Kernel:linear | C:100 | Accuracy: 94.74%\n",
      "13152\n",
      "Acurácia: 94.74%\n",
      "Kernel:linear | C:10000 | Accuracy: 94.74%\n",
      "13223\n",
      "Acurácia: 94.74%\n",
      "Kernel:linear | C:10000 | Accuracy: 94.74%\n",
      "14111\n",
      "Acurácia: 97.37%\n",
      "Kernel:linear | C:100 | Accuracy: 97.37%\n",
      "14213\n",
      "Acurácia: 94.74%\n",
      "Kernel:linear | C:1000 | Accuracy: 94.74%\n",
      "14625\n",
      "Acurácia: 94.74%\n",
      "Kernel:linear | C:100 | Accuracy: 94.74%\n",
      "14881\n",
      "Acurácia: 94.74%\n",
      "Kernel:linear | C:1000 | Accuracy: 94.74%\n"
     ]
    }
   ],
   "source": [
    "kernel = 'linear'\n",
    "for count in range(15000):\n",
    "    for C in [0.1, 1, 10, 100, 1000, 10000]:\n",
    "        X_train, X_test, y_train, y_test = train_test_split(\n",
    "            X, y, train_size=0.7, shuffle=True, stratify=y)\n",
    "        clf = SVC(kernel=kernel, C=C)\n",
    "        clf = clf.fit(X_train, y_train)\n",
    "        res = clf.predict(X_test)\n",
    "        tot_hit = sum([1 for i in range(len(res)) if res[i] == y_test[i]])\n",
    "        if ( 100*metrics.accuracy_score(y_test, res) >= 94.0): # 92.11 e 97.37\n",
    "            print(count)\n",
    "            print('Acurácia: {:.2f}%'.format(tot_hit / X_test.shape[0] * 100))\n",
    "            print('Kernel:{} | C:{} | Accuracy: {:.2f}%'.format(\n",
    "                kernel, C, 100*metrics.accuracy_score(y_test, res))\n",
    "            )"
   ]
  },
  {
   "cell_type": "code",
   "execution_count": null,
   "metadata": {},
   "outputs": [
    {
     "name": "stdout",
     "output_type": "stream",
     "text": [
      "18\n",
      "Acurácia: 94.74%\n",
      "Kernel:linear | Gamma:0.1 e C:10000 | Accuracy: 94.74%\n",
      "33\n",
      "Acurácia: 94.74%\n",
      "Kernel:linear | Gamma:1e-06 e C:100 | Accuracy: 94.74%\n",
      "63\n",
      "Acurácia: 94.74%\n",
      "Kernel:linear | Gamma:0.0001 e C:100 | Accuracy: 94.74%\n",
      "81\n",
      "Acurácia: 94.74%\n",
      "Kernel:linear | Gamma:0.1 e C:100 | Accuracy: 94.74%\n",
      "106\n",
      "Acurácia: 94.74%\n",
      "Kernel:linear | Gamma:0.001 e C:100 | Accuracy: 94.74%\n",
      "122\n",
      "Acurácia: 94.74%\n",
      "Kernel:linear | Gamma:1 e C:100 | Accuracy: 94.74%\n",
      "148\n",
      "Acurácia: 94.74%\n",
      "Kernel:linear | Gamma:0.1 e C:10000 | Accuracy: 94.74%\n",
      "152\n",
      "Acurácia: 94.74%\n",
      "Kernel:linear | Gamma:1 e C:1000 | Accuracy: 94.74%\n",
      "171\n",
      "Acurácia: 94.74%\n",
      "Kernel:linear | Gamma:0.1 e C:1000 | Accuracy: 94.74%\n",
      "230\n",
      "Acurácia: 94.74%\n",
      "Kernel:linear | Gamma:1e-06 e C:100 | Accuracy: 94.74%\n",
      "266\n",
      "Acurácia: 94.74%\n",
      "Kernel:linear | Gamma:0.001 e C:10000 | Accuracy: 94.74%\n",
      "288\n",
      "Acurácia: 94.74%\n",
      "Kernel:linear | Gamma:1e-05 e C:100 | Accuracy: 94.74%\n",
      "300\n",
      "Acurácia: 94.74%\n",
      "Kernel:linear | Gamma:1e-05 e C:10000 | Accuracy: 94.74%\n",
      "315\n",
      "Acurácia: 94.74%\n",
      "Kernel:linear | Gamma:0.001 e C:1000 | Accuracy: 94.74%\n",
      "372\n",
      "Acurácia: 94.74%\n",
      "Kernel:linear | Gamma:0.1 e C:1000 | Accuracy: 94.74%\n",
      "394\n",
      "Acurácia: 94.74%\n",
      "Kernel:linear | Gamma:0.1 e C:1000 | Accuracy: 94.74%\n",
      "403\n",
      "Acurácia: 94.74%\n",
      "Kernel:linear | Gamma:0.1 e C:100 | Accuracy: 94.74%\n",
      "410\n",
      "Acurácia: 94.74%\n",
      "Kernel:linear | Gamma:10 e C:10 | Accuracy: 94.74%\n",
      "414\n",
      "Acurácia: 94.74%\n",
      "Kernel:linear | Gamma:1 e C:100 | Accuracy: 94.74%\n",
      "511\n",
      "Acurácia: 94.74%\n",
      "Kernel:linear | Gamma:1e-05 e C:1000 | Accuracy: 94.74%\n",
      "549\n",
      "Acurácia: 100.00%\n",
      "Kernel:linear | Gamma:10 e C:1000 | Accuracy: 100.00%\n",
      "575\n",
      "Acurácia: 97.37%\n",
      "Kernel:linear | Gamma:1 e C:100 | Accuracy: 97.37%\n",
      "582\n",
      "Acurácia: 94.74%\n",
      "Kernel:linear | Gamma:0.1 e C:10000 | Accuracy: 94.74%\n",
      "604\n",
      "Acurácia: 94.74%\n",
      "Kernel:linear | Gamma:0.01 e C:1000 | Accuracy: 94.74%\n",
      "609\n",
      "Acurácia: 94.74%\n",
      "Kernel:linear | Gamma:1e-06 e C:100 | Accuracy: 94.74%\n",
      "657\n",
      "Acurácia: 94.74%\n",
      "Kernel:linear | Gamma:1 e C:10 | Accuracy: 94.74%\n",
      "723\n",
      "Acurácia: 94.74%\n",
      "Kernel:linear | Gamma:0.0001 e C:100 | Accuracy: 94.74%\n",
      "736\n",
      "Acurácia: 94.74%\n",
      "Kernel:linear | Gamma:1e-05 e C:100 | Accuracy: 94.74%\n",
      "743\n",
      "Acurácia: 94.74%\n",
      "Kernel:linear | Gamma:0.0001 e C:1000 | Accuracy: 94.74%\n"
     ]
    }
   ],
   "source": [
    "for count in range(3000):\n",
    "    for kernel in ['linear', 'poly', 'rbf', 'sigmoid']:\n",
    "        for gamma in [10, 1, 0.1, 0.01, 0.001, 0.0001, 0.00001, 0.000001]:\n",
    "            for C in [0.01, 0.1, 1, 10, 100, 1000, 10000]:\n",
    "                X_train, X_test, y_train, y_test = train_test_split(\n",
    "                    X, y, train_size=0.7, shuffle=True, stratify=y)\n",
    "                clf = SVC(kernel=kernel,gamma=0.0001, C=C)\n",
    "                clf = clf.fit(X_train, y_train)\n",
    "                res = clf.predict(X_test)\n",
    "                tot_hit = sum([1 for i in range(len(res)) if res[i] == y_test[i]])\n",
    "                if ( 100*metrics.accuracy_score(y_test, res) >= 94.0): # 92.11 e 94.74 (1 vez)\n",
    "                    print(count)\n",
    "                    print('Acurácia: {:.2f}%'.format(tot_hit / X_test.shape[0] * 100))\n",
    "                    print('Kernel:{} | Gamma:{} e C:{} | Accuracy: {:.2f}%'.format(\n",
    "                        kernel, gamma, C, 100*metrics.accuracy_score(y_test, res))\n",
    "                    )"
   ]
  }
 ],
 "metadata": {
  "kernelspec": {
   "display_name": "Python 3",
   "language": "python",
   "name": "python3"
  },
  "language_info": {
   "codemirror_mode": {
    "name": "ipython",
    "version": 3
   },
   "file_extension": ".py",
   "mimetype": "text/x-python",
   "name": "python",
   "nbconvert_exporter": "python",
   "pygments_lexer": "ipython3",
   "version": "3.8.5"
  }
 },
 "nbformat": 4,
 "nbformat_minor": 4
}
